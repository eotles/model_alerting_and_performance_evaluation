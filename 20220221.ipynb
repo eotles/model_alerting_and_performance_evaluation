{
 "cells": [
  {
   "cell_type": "code",
   "execution_count": 1,
   "id": "405ccd81",
   "metadata": {},
   "outputs": [],
   "source": [
    "#example using model_alerting_and_performance_evaluation.py"
   ]
  },
  {
   "cell_type": "code",
   "execution_count": 2,
   "id": "21a74217",
   "metadata": {},
   "outputs": [],
   "source": [
    "import matplotlib.pyplot as plt\n",
    "import numpy as np\n",
    "import pandas as pd\n",
    "from sklearn import metrics"
   ]
  },
  {
   "cell_type": "code",
   "execution_count": 3,
   "id": "94f2074b",
   "metadata": {},
   "outputs": [],
   "source": [
    "%load_ext autoreload\n",
    "%autoreload 1\n",
    "%aimport model_alerting_and_performance_evaluation\n",
    "mape = model_alerting_and_performance_evaluation"
   ]
  },
  {
   "cell_type": "code",
   "execution_count": 4,
   "id": "32407fbc",
   "metadata": {},
   "outputs": [],
   "source": [
    "#need to generate data that has 4 columns:\n",
    "# each row represents the output for a given patient enounter at a set time-step\n",
    "# eID: encounterID - this is what groups a patient's encounter (encounter) together\n",
    "# p: the probability (risk estimate) for each encounter time-step\n",
    "# y: the true label for that encounter (assume that there's only 1 label fper encounter)\n",
    "# observer: the observer who would see an alert for that given encounter time-step (e.g. the primary contact physician)\n",
    "\n",
    "# assumes that data are in ascending temporal order\n",
    "# assumes one there's one observer per encounter time-step\n",
    "\n",
    "#TODOS:\n",
    "# add time-step functionality\n",
    "# assumes "
   ]
  },
  {
   "cell_type": "markdown",
   "id": "2eec1c37",
   "metadata": {},
   "source": [
    "# simulate data"
   ]
  },
  {
   "cell_type": "code",
   "execution_count": 5,
   "id": "147e2f87",
   "metadata": {},
   "outputs": [],
   "source": [
    "#generate underlying risk (p)\n",
    "rng = np.random.default_rng()\n",
    "n = 200\n",
    "\n",
    "p = rng.uniform(size=n)\n",
    "y = rng.binomial(1, p)\n",
    "\n",
    "l = rng.integers(2, 10, size=n)\n",
    "n_t = sum(l)\n",
    "\n",
    "e_t = rng.normal(0.0, 0.1, size=n_t)"
   ]
  },
  {
   "cell_type": "code",
   "execution_count": 6,
   "id": "558158df",
   "metadata": {},
   "outputs": [],
   "source": [
    "#generate risk estimates for every encounter time-step\n",
    "ci = []\n",
    "cp = []\n",
    "co = []\n",
    "cy = []\n",
    "\n",
    "n_obs = 3\n",
    "\n",
    "for i, p_i in enumerate(p):\n",
    "    _l = rng.integers(2,10)\n",
    "    e_t = rng.normal(0.0, 0.1, size=_l)\n",
    "    \n",
    "    ci += [i]*_l\n",
    "    cp += list(p_i + e_t.cumsum())\n",
    "    cy += [y[i]]*_l\n",
    "    \n",
    "    o_i = [i]*_l\n",
    "    o_i_mod = rng.binomial(1, 0.1, size=_l).cumsum()\n",
    "    o_i += o_i_mod\n",
    "    o_i = o_i%n_obs\n",
    "    \n",
    "    co += list(o_i)"
   ]
  },
  {
   "cell_type": "code",
   "execution_count": 7,
   "id": "d8838fae",
   "metadata": {},
   "outputs": [
    {
     "data": {
      "text/html": [
       "<div>\n",
       "<style scoped>\n",
       "    .dataframe tbody tr th:only-of-type {\n",
       "        vertical-align: middle;\n",
       "    }\n",
       "\n",
       "    .dataframe tbody tr th {\n",
       "        vertical-align: top;\n",
       "    }\n",
       "\n",
       "    .dataframe thead th {\n",
       "        text-align: right;\n",
       "    }\n",
       "</style>\n",
       "<table border=\"1\" class=\"dataframe\">\n",
       "  <thead>\n",
       "    <tr style=\"text-align: right;\">\n",
       "      <th></th>\n",
       "      <th>eID</th>\n",
       "      <th>p</th>\n",
       "      <th>y</th>\n",
       "      <th>observer</th>\n",
       "    </tr>\n",
       "  </thead>\n",
       "  <tbody>\n",
       "    <tr>\n",
       "      <th>0</th>\n",
       "      <td>0</td>\n",
       "      <td>0.641426</td>\n",
       "      <td>1</td>\n",
       "      <td>0</td>\n",
       "    </tr>\n",
       "    <tr>\n",
       "      <th>1</th>\n",
       "      <td>0</td>\n",
       "      <td>0.430986</td>\n",
       "      <td>1</td>\n",
       "      <td>0</td>\n",
       "    </tr>\n",
       "    <tr>\n",
       "      <th>2</th>\n",
       "      <td>0</td>\n",
       "      <td>0.268790</td>\n",
       "      <td>1</td>\n",
       "      <td>0</td>\n",
       "    </tr>\n",
       "    <tr>\n",
       "      <th>3</th>\n",
       "      <td>1</td>\n",
       "      <td>0.564268</td>\n",
       "      <td>1</td>\n",
       "      <td>1</td>\n",
       "    </tr>\n",
       "    <tr>\n",
       "      <th>4</th>\n",
       "      <td>1</td>\n",
       "      <td>0.667358</td>\n",
       "      <td>1</td>\n",
       "      <td>1</td>\n",
       "    </tr>\n",
       "  </tbody>\n",
       "</table>\n",
       "</div>"
      ],
      "text/plain": [
       "   eID         p  y  observer\n",
       "0    0  0.641426  1         0\n",
       "1    0  0.430986  1         0\n",
       "2    0  0.268790  1         0\n",
       "3    1  0.564268  1         1\n",
       "4    1  0.667358  1         1"
      ]
     },
     "execution_count": 7,
     "metadata": {},
     "output_type": "execute_result"
    }
   ],
   "source": [
    "# turn it into a dataframe with the following columns: 'eID', 'p', 'y', 'observer'\n",
    "df = pd.DataFrame({'eID':ci, 'p':cp, 'y': cy, 'observer':co})\n",
    "df.head()"
   ]
  },
  {
   "cell_type": "markdown",
   "id": "9718dd1a",
   "metadata": {},
   "source": [
    "# overall performance"
   ]
  },
  {
   "cell_type": "code",
   "execution_count": 8,
   "id": "13eeec96",
   "metadata": {},
   "outputs": [
    {
     "data": {
      "text/plain": [
       "0.7533753375337533"
      ]
     },
     "execution_count": 8,
     "metadata": {},
     "output_type": "execute_result"
    }
   ],
   "source": [
    "_ = df.groupby(by='eID').max()\n",
    "metrics.roc_auc_score(_['y'], _['p'])"
   ]
  },
  {
   "cell_type": "markdown",
   "id": "b2441d25",
   "metadata": {},
   "source": [
    "# compute alerts and performance"
   ]
  },
  {
   "cell_type": "code",
   "execution_count": 9,
   "id": "cce275b6",
   "metadata": {},
   "outputs": [],
   "source": [
    "#use mape to:\n",
    "#calculate sensitivity at the population level\n",
    "#calculate alerts at the observer level"
   ]
  },
  {
   "cell_type": "code",
   "execution_count": 10,
   "id": "6eb469f5",
   "metadata": {},
   "outputs": [
    {
     "data": {
      "text/html": [
       "<div>\n",
       "<style scoped>\n",
       "    .dataframe tbody tr th:only-of-type {\n",
       "        vertical-align: middle;\n",
       "    }\n",
       "\n",
       "    .dataframe tbody tr th {\n",
       "        vertical-align: top;\n",
       "    }\n",
       "\n",
       "    .dataframe thead th {\n",
       "        text-align: right;\n",
       "    }\n",
       "</style>\n",
       "<table border=\"1\" class=\"dataframe\">\n",
       "  <thead>\n",
       "    <tr style=\"text-align: right;\">\n",
       "      <th></th>\n",
       "      <th>tau</th>\n",
       "      <th>tn</th>\n",
       "      <th>fp</th>\n",
       "      <th>fn</th>\n",
       "      <th>tp</th>\n",
       "      <th>oa_max</th>\n",
       "      <th>oa_min</th>\n",
       "      <th>oa_mean</th>\n",
       "      <th>oa_med</th>\n",
       "      <th>sens</th>\n",
       "      <th>spec</th>\n",
       "      <th>ppv</th>\n",
       "      <th>npv</th>\n",
       "    </tr>\n",
       "  </thead>\n",
       "  <tbody>\n",
       "    <tr>\n",
       "      <th>0</th>\n",
       "      <td>0.00</td>\n",
       "      <td>3</td>\n",
       "      <td>98</td>\n",
       "      <td>1</td>\n",
       "      <td>98</td>\n",
       "      <td>67</td>\n",
       "      <td>64</td>\n",
       "      <td>65.333333</td>\n",
       "      <td>65.0</td>\n",
       "      <td>0.989899</td>\n",
       "      <td>0.029703</td>\n",
       "      <td>0.500000</td>\n",
       "      <td>0.750000</td>\n",
       "    </tr>\n",
       "    <tr>\n",
       "      <th>1</th>\n",
       "      <td>0.05</td>\n",
       "      <td>5</td>\n",
       "      <td>96</td>\n",
       "      <td>1</td>\n",
       "      <td>98</td>\n",
       "      <td>65</td>\n",
       "      <td>64</td>\n",
       "      <td>64.666667</td>\n",
       "      <td>65.0</td>\n",
       "      <td>0.989899</td>\n",
       "      <td>0.049505</td>\n",
       "      <td>0.505155</td>\n",
       "      <td>0.833333</td>\n",
       "    </tr>\n",
       "    <tr>\n",
       "      <th>2</th>\n",
       "      <td>0.10</td>\n",
       "      <td>9</td>\n",
       "      <td>92</td>\n",
       "      <td>3</td>\n",
       "      <td>96</td>\n",
       "      <td>64</td>\n",
       "      <td>62</td>\n",
       "      <td>62.666667</td>\n",
       "      <td>62.0</td>\n",
       "      <td>0.969697</td>\n",
       "      <td>0.089109</td>\n",
       "      <td>0.510638</td>\n",
       "      <td>0.750000</td>\n",
       "    </tr>\n",
       "    <tr>\n",
       "      <th>3</th>\n",
       "      <td>0.15</td>\n",
       "      <td>15</td>\n",
       "      <td>86</td>\n",
       "      <td>3</td>\n",
       "      <td>96</td>\n",
       "      <td>63</td>\n",
       "      <td>58</td>\n",
       "      <td>60.666667</td>\n",
       "      <td>61.0</td>\n",
       "      <td>0.969697</td>\n",
       "      <td>0.148515</td>\n",
       "      <td>0.527473</td>\n",
       "      <td>0.833333</td>\n",
       "    </tr>\n",
       "    <tr>\n",
       "      <th>4</th>\n",
       "      <td>0.20</td>\n",
       "      <td>21</td>\n",
       "      <td>80</td>\n",
       "      <td>5</td>\n",
       "      <td>94</td>\n",
       "      <td>59</td>\n",
       "      <td>57</td>\n",
       "      <td>58.000000</td>\n",
       "      <td>58.0</td>\n",
       "      <td>0.949495</td>\n",
       "      <td>0.207921</td>\n",
       "      <td>0.540230</td>\n",
       "      <td>0.807692</td>\n",
       "    </tr>\n",
       "  </tbody>\n",
       "</table>\n",
       "</div>"
      ],
      "text/plain": [
       "    tau  tn  fp  fn  tp  oa_max  oa_min    oa_mean  oa_med      sens  \\\n",
       "0  0.00   3  98   1  98      67      64  65.333333    65.0  0.989899   \n",
       "1  0.05   5  96   1  98      65      64  64.666667    65.0  0.989899   \n",
       "2  0.10   9  92   3  96      64      62  62.666667    62.0  0.969697   \n",
       "3  0.15  15  86   3  96      63      58  60.666667    61.0  0.969697   \n",
       "4  0.20  21  80   5  94      59      57  58.000000    58.0  0.949495   \n",
       "\n",
       "       spec       ppv       npv  \n",
       "0  0.029703  0.500000  0.750000  \n",
       "1  0.049505  0.505155  0.833333  \n",
       "2  0.089109  0.510638  0.750000  \n",
       "3  0.148515  0.527473  0.833333  \n",
       "4  0.207921  0.540230  0.807692  "
      ]
     },
     "execution_count": 10,
     "metadata": {},
     "output_type": "execute_result"
    }
   ],
   "source": [
    "ap_res = mape.compute_alerts_and_performance(df)\n",
    "ap_res.head()"
   ]
  },
  {
   "cell_type": "code",
   "execution_count": 11,
   "id": "3006cd7d",
   "metadata": {},
   "outputs": [
    {
     "data": {
      "image/png": "[encoded data removed]",
      "text/plain": [
       "<Figure size 432x288 with 2 Axes>"
      ]
     },
     "metadata": {
      "needs_background": "light"
     },
     "output_type": "display_data"
    }
   ],
   "source": [
    "mape.plot_alerts_and_performance(ap_res)"
   ]
  }
 ],
 "metadata": {
  "kernelspec": {
   "display_name": "Python 3",
   "language": "python",
   "name": "python3"
  },
  "language_info": {
   "codemirror_mode": {
    "name": "ipython",
    "version": 3
   },
   "file_extension": ".py",
   "mimetype": "text/x-python",
   "name": "python",
   "nbconvert_exporter": "python",
   "pygments_lexer": "ipython3",
   "version": "3.9.2"
  }
 },
 "nbformat": 4,
 "nbformat_minor": 5
}
