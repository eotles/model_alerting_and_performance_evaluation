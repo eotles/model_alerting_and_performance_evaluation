{
 "cells": [
  {
   "cell_type": "code",
   "execution_count": null,
   "id": "5f2e7c77",
   "metadata": {},
   "outputs": [],
   "source": [
    "#example using model_alerting_and_performance_evaluation.py"
   ]
  },
  {
   "cell_type": "code",
   "execution_count": 1,
   "id": "21a74217",
   "metadata": {},
   "outputs": [],
   "source": [
    "import matplotlib.pyplot as plt\n",
    "import numpy as np\n",
    "import pandas as pd\n",
    "from sklearn import metrics"
   ]
  },
  {
   "cell_type": "code",
   "execution_count": 2,
   "id": "94f2074b",
   "metadata": {},
   "outputs": [],
   "source": [
    "%load_ext autoreload\n",
    "%autoreload 1\n",
    "%aimport model_alerting_and_performance_evaluation\n",
    "mape = model_alerting_and_performance_evaluation"
   ]
  },
  {
   "cell_type": "code",
   "execution_count": null,
   "id": "7df3e2a8",
   "metadata": {},
   "outputs": [],
   "source": [
    "#need to generate data that has 4 columns:\n",
    "# each row represents the output for a given patient enounter at a set time-step\n",
    "# eid: encounterID - this is what groups a patient's encounter (encounter) together\n",
    "# p: the probability (risk estimate) for each encounter time-step\n",
    "# y: the true label for that encounter (assume that there's only 1 label fper encounter)\n",
    "# observer: the observer who would see an alert for that given encounter time-step (e.g. the primary contact physician)\n",
    "\n",
    "#TODOS:\n",
    "# add time-step functionality"
   ]
  },
  {
   "cell_type": "markdown",
   "id": "a0b93606",
   "metadata": {},
   "source": [
    "# simulate data"
   ]
  },
  {
   "cell_type": "code",
   "execution_count": 3,
   "id": "147e2f87",
   "metadata": {},
   "outputs": [],
   "source": [
    "#generate underlying risk (p)\n",
    "rng = np.random.default_rng()\n",
    "n = 200\n",
    "\n",
    "p = rng.uniform(size=n)\n",
    "y = rng.binomial(1, p)\n",
    "\n",
    "l = rng.integers(2, 10, size=n)\n",
    "n_t = sum(l)\n",
    "\n",
    "e_t = rng.normal(0.0, 0.1, size=n_t)"
   ]
  },
  {
   "cell_type": "code",
   "execution_count": 4,
   "id": "558158df",
   "metadata": {},
   "outputs": [],
   "source": [
    "#generate risk estimates for every encounter time-step\n",
    "ci = []\n",
    "cp = []\n",
    "co = []\n",
    "cy = []\n",
    "\n",
    "n_obs = 3\n",
    "\n",
    "for i, p_i in enumerate(p):\n",
    "    _l = rng.integers(2,10)\n",
    "    e_t = rng.normal(0.0, 0.1, size=_l)\n",
    "    \n",
    "    ci += [i]*_l\n",
    "    cp += list(p_i + e_t.cumsum())\n",
    "    cy += [y[i]]*_l\n",
    "    \n",
    "    o_i = [i]*_l\n",
    "    o_i_mod = rng.binomial(1, 0.1, size=_l).cumsum()\n",
    "    o_i += o_i_mod\n",
    "    o_i = o_i%n_obs\n",
    "    \n",
    "    co += list(o_i)"
   ]
  },
  {
   "cell_type": "code",
   "execution_count": 5,
   "id": "d8838fae",
   "metadata": {},
   "outputs": [
    {
     "data": {
      "text/html": [
       "<div>\n",
       "<style scoped>\n",
       "    .dataframe tbody tr th:only-of-type {\n",
       "        vertical-align: middle;\n",
       "    }\n",
       "\n",
       "    .dataframe tbody tr th {\n",
       "        vertical-align: top;\n",
       "    }\n",
       "\n",
       "    .dataframe thead th {\n",
       "        text-align: right;\n",
       "    }\n",
       "</style>\n",
       "<table border=\"1\" class=\"dataframe\">\n",
       "  <thead>\n",
       "    <tr style=\"text-align: right;\">\n",
       "      <th></th>\n",
       "      <th>eID</th>\n",
       "      <th>p</th>\n",
       "      <th>y</th>\n",
       "      <th>observer</th>\n",
       "    </tr>\n",
       "  </thead>\n",
       "  <tbody>\n",
       "    <tr>\n",
       "      <th>0</th>\n",
       "      <td>0</td>\n",
       "      <td>0.791675</td>\n",
       "      <td>0</td>\n",
       "      <td>0</td>\n",
       "    </tr>\n",
       "    <tr>\n",
       "      <th>1</th>\n",
       "      <td>0</td>\n",
       "      <td>0.725281</td>\n",
       "      <td>0</td>\n",
       "      <td>0</td>\n",
       "    </tr>\n",
       "    <tr>\n",
       "      <th>2</th>\n",
       "      <td>0</td>\n",
       "      <td>0.662500</td>\n",
       "      <td>0</td>\n",
       "      <td>0</td>\n",
       "    </tr>\n",
       "    <tr>\n",
       "      <th>3</th>\n",
       "      <td>0</td>\n",
       "      <td>0.707184</td>\n",
       "      <td>0</td>\n",
       "      <td>0</td>\n",
       "    </tr>\n",
       "    <tr>\n",
       "      <th>4</th>\n",
       "      <td>0</td>\n",
       "      <td>0.666354</td>\n",
       "      <td>0</td>\n",
       "      <td>1</td>\n",
       "    </tr>\n",
       "  </tbody>\n",
       "</table>\n",
       "</div>"
      ],
      "text/plain": [
       "   eID         p  y  observer\n",
       "0    0  0.791675  0         0\n",
       "1    0  0.725281  0         0\n",
       "2    0  0.662500  0         0\n",
       "3    0  0.707184  0         0\n",
       "4    0  0.666354  0         1"
      ]
     },
     "execution_count": 5,
     "metadata": {},
     "output_type": "execute_result"
    }
   ],
   "source": [
    "# turn it into a dataframe with the following columns: 'eID', 'p', 'y', 'observer'\n",
    "df = pd.DataFrame({'eID':ci, 'p':cp, 'y': cy, 'observer':co})\n",
    "df.head()"
   ]
  },
  {
   "cell_type": "markdown",
   "id": "d4974849",
   "metadata": {},
   "source": [
    "# overall performance"
   ]
  },
  {
   "cell_type": "code",
   "execution_count": 6,
   "id": "13eeec96",
   "metadata": {},
   "outputs": [
    {
     "data": {
      "text/plain": [
       "0.8535825545171339"
      ]
     },
     "execution_count": 6,
     "metadata": {},
     "output_type": "execute_result"
    }
   ],
   "source": [
    "_ = df.groupby(by='eID').max()\n",
    "metrics.roc_auc_score(_['y'], _['p'])"
   ]
  },
  {
   "cell_type": "markdown",
   "id": "ca1f4386",
   "metadata": {},
   "source": [
    "# compute alerts and performance"
   ]
  },
  {
   "cell_type": "code",
   "execution_count": 7,
   "id": "cce275b6",
   "metadata": {},
   "outputs": [],
   "source": [
    "#use mape to:\n",
    "#calculate sensitivity at the population level\n",
    "#calculate alerts at the observer level"
   ]
  },
  {
   "cell_type": "code",
   "execution_count": 8,
   "id": "6eb469f5",
   "metadata": {},
   "outputs": [
    {
     "data": {
      "text/html": [
       "<div>\n",
       "<style scoped>\n",
       "    .dataframe tbody tr th:only-of-type {\n",
       "        vertical-align: middle;\n",
       "    }\n",
       "\n",
       "    .dataframe tbody tr th {\n",
       "        vertical-align: top;\n",
       "    }\n",
       "\n",
       "    .dataframe thead th {\n",
       "        text-align: right;\n",
       "    }\n",
       "</style>\n",
       "<table border=\"1\" class=\"dataframe\">\n",
       "  <thead>\n",
       "    <tr style=\"text-align: right;\">\n",
       "      <th></th>\n",
       "      <th>tau</th>\n",
       "      <th>tn</th>\n",
       "      <th>fp</th>\n",
       "      <th>fn</th>\n",
       "      <th>tp</th>\n",
       "      <th>oa_max</th>\n",
       "      <th>oa_min</th>\n",
       "      <th>oa_mean</th>\n",
       "      <th>oa_med</th>\n",
       "      <th>sens</th>\n",
       "      <th>spec</th>\n",
       "      <th>ppv</th>\n",
       "      <th>npv</th>\n",
       "    </tr>\n",
       "  </thead>\n",
       "  <tbody>\n",
       "    <tr>\n",
       "      <th>0</th>\n",
       "      <td>0.00</td>\n",
       "      <td>7</td>\n",
       "      <td>100</td>\n",
       "      <td>0</td>\n",
       "      <td>93</td>\n",
       "      <td>65</td>\n",
       "      <td>63</td>\n",
       "      <td>64.333333</td>\n",
       "      <td>65.0</td>\n",
       "      <td>1.000000</td>\n",
       "      <td>0.065421</td>\n",
       "      <td>0.481865</td>\n",
       "      <td>1.000000</td>\n",
       "    </tr>\n",
       "    <tr>\n",
       "      <th>1</th>\n",
       "      <td>0.05</td>\n",
       "      <td>11</td>\n",
       "      <td>96</td>\n",
       "      <td>0</td>\n",
       "      <td>93</td>\n",
       "      <td>64</td>\n",
       "      <td>62</td>\n",
       "      <td>63.000000</td>\n",
       "      <td>63.0</td>\n",
       "      <td>1.000000</td>\n",
       "      <td>0.102804</td>\n",
       "      <td>0.492063</td>\n",
       "      <td>1.000000</td>\n",
       "    </tr>\n",
       "    <tr>\n",
       "      <th>2</th>\n",
       "      <td>0.10</td>\n",
       "      <td>19</td>\n",
       "      <td>88</td>\n",
       "      <td>1</td>\n",
       "      <td>92</td>\n",
       "      <td>61</td>\n",
       "      <td>59</td>\n",
       "      <td>60.000000</td>\n",
       "      <td>60.0</td>\n",
       "      <td>0.989247</td>\n",
       "      <td>0.177570</td>\n",
       "      <td>0.511111</td>\n",
       "      <td>0.950000</td>\n",
       "    </tr>\n",
       "    <tr>\n",
       "      <th>3</th>\n",
       "      <td>0.15</td>\n",
       "      <td>23</td>\n",
       "      <td>84</td>\n",
       "      <td>1</td>\n",
       "      <td>92</td>\n",
       "      <td>61</td>\n",
       "      <td>56</td>\n",
       "      <td>58.666667</td>\n",
       "      <td>59.0</td>\n",
       "      <td>0.989247</td>\n",
       "      <td>0.214953</td>\n",
       "      <td>0.522727</td>\n",
       "      <td>0.958333</td>\n",
       "    </tr>\n",
       "    <tr>\n",
       "      <th>4</th>\n",
       "      <td>0.20</td>\n",
       "      <td>34</td>\n",
       "      <td>73</td>\n",
       "      <td>1</td>\n",
       "      <td>92</td>\n",
       "      <td>55</td>\n",
       "      <td>55</td>\n",
       "      <td>55.000000</td>\n",
       "      <td>55.0</td>\n",
       "      <td>0.989247</td>\n",
       "      <td>0.317757</td>\n",
       "      <td>0.557576</td>\n",
       "      <td>0.971429</td>\n",
       "    </tr>\n",
       "  </tbody>\n",
       "</table>\n",
       "</div>"
      ],
      "text/plain": [
       "    tau  tn   fp  fn  tp  oa_max  oa_min    oa_mean  oa_med      sens  \\\n",
       "0  0.00   7  100   0  93      65      63  64.333333    65.0  1.000000   \n",
       "1  0.05  11   96   0  93      64      62  63.000000    63.0  1.000000   \n",
       "2  0.10  19   88   1  92      61      59  60.000000    60.0  0.989247   \n",
       "3  0.15  23   84   1  92      61      56  58.666667    59.0  0.989247   \n",
       "4  0.20  34   73   1  92      55      55  55.000000    55.0  0.989247   \n",
       "\n",
       "       spec       ppv       npv  \n",
       "0  0.065421  0.481865  1.000000  \n",
       "1  0.102804  0.492063  1.000000  \n",
       "2  0.177570  0.511111  0.950000  \n",
       "3  0.214953  0.522727  0.958333  \n",
       "4  0.317757  0.557576  0.971429  "
      ]
     },
     "execution_count": 8,
     "metadata": {},
     "output_type": "execute_result"
    }
   ],
   "source": [
    "ap_res = mape.compute_alerts_and_performance(df)\n",
    "ap_res.head()"
   ]
  },
  {
   "cell_type": "code",
   "execution_count": 9,
   "id": "3006cd7d",
   "metadata": {},
   "outputs": [
    {
     "data": {
      "image/png": "[encoded data removed]",
      "text/plain": [
       "<Figure size 432x288 with 2 Axes>"
      ]
     },
     "metadata": {
      "needs_background": "light"
     },
     "output_type": "display_data"
    }
   ],
   "source": [
    "mape.plot_alerts_and_performance(ap_res)"
   ]
  }
 ],
 "metadata": {
  "kernelspec": {
   "display_name": "Python 3",
   "language": "python",
   "name": "python3"
  },
  "language_info": {
   "codemirror_mode": {
    "name": "ipython",
    "version": 3
   },
   "file_extension": ".py",
   "mimetype": "text/x-python",
   "name": "python",
   "nbconvert_exporter": "python",
   "pygments_lexer": "ipython3",
   "version": "3.9.2"
  }
 },
 "nbformat": 4,
 "nbformat_minor": 5
}
