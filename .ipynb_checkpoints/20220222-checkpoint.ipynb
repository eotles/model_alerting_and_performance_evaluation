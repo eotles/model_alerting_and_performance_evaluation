{
 "cells": [
  {
   "cell_type": "code",
   "execution_count": 1,
   "id": "405ccd81",
   "metadata": {},
   "outputs": [],
   "source": [
    "#example using model_alerting_and_performance_evaluation.py"
   ]
  },
  {
   "cell_type": "code",
   "execution_count": 2,
   "id": "21a74217",
   "metadata": {},
   "outputs": [],
   "source": [
    "import matplotlib.pyplot as plt\n",
    "import numpy as np\n",
    "import pandas as pd\n",
    "from sklearn import metrics"
   ]
  },
  {
   "cell_type": "code",
   "execution_count": 3,
   "id": "94f2074b",
   "metadata": {},
   "outputs": [],
   "source": [
    "%load_ext autoreload\n",
    "%autoreload 1\n",
    "%aimport model_alerting_and_performance_evaluation\n",
    "mape = model_alerting_and_performance_evaluation"
   ]
  },
  {
   "cell_type": "code",
   "execution_count": 4,
   "id": "32407fbc",
   "metadata": {},
   "outputs": [],
   "source": [
    "#need to generate data that has 4 columns:\n",
    "# each row represents the output for a given patient enounter at a set time-step\n",
    "# eID: encounterID - this is what groups a patient's encounter (encounter) together\n",
    "# p: the probability (risk estimate) for each encounter time-step\n",
    "# y: the true label for that encounter (assume that there's only 1 label fper encounter)\n",
    "# observer: the observer who would see an alert for that given encounter time-step (e.g. the primary contact physician)\n",
    "\n",
    "# assumes that data are in ascending temporal order\n",
    "# assumes one there's one observer per encounter time-step\n",
    "\n",
    "#TODOS:\n",
    "# add time-step functionality\n",
    "# assumes "
   ]
  },
  {
   "cell_type": "markdown",
   "id": "2eec1c37",
   "metadata": {},
   "source": [
    "# simulate data"
   ]
  },
  {
   "cell_type": "code",
   "execution_count": 5,
   "id": "147e2f87",
   "metadata": {},
   "outputs": [],
   "source": [
    "#generate underlying risk (p)\n",
    "rng = np.random.default_rng()\n",
    "n = 200\n",
    "\n",
    "p = rng.uniform(size=n)\n",
    "y = rng.binomial(1, p)\n",
    "\n",
    "l = rng.integers(2, 10, size=n)\n",
    "n_t = sum(l)\n",
    "\n",
    "e_t = rng.normal(0.0, 0.1, size=n_t)"
   ]
  },
  {
   "cell_type": "code",
   "execution_count": 6,
   "id": "558158df",
   "metadata": {},
   "outputs": [],
   "source": [
    "#generate risk estimates for every encounter time-step\n",
    "ci = []\n",
    "cp = []\n",
    "co = []\n",
    "cy = []\n",
    "\n",
    "n_obs = 3\n",
    "\n",
    "for i, p_i in enumerate(p):\n",
    "    _l = rng.integers(2,10)\n",
    "    e_t = rng.normal(0.0, 0.1, size=_l)\n",
    "    \n",
    "    ci += [i]*_l\n",
    "    cp += list(p_i + e_t.cumsum())\n",
    "    cy += [y[i]]*_l\n",
    "    \n",
    "    o_i = [i]*_l\n",
    "    o_i_mod = rng.binomial(1, 0.1, size=_l).cumsum()\n",
    "    o_i += o_i_mod\n",
    "    o_i = o_i%n_obs\n",
    "    \n",
    "    co += list(o_i)"
   ]
  },
  {
   "cell_type": "code",
   "execution_count": 7,
   "id": "d8838fae",
   "metadata": {},
   "outputs": [
    {
     "data": {
      "text/html": [
       "<div>\n",
       "<style scoped>\n",
       "    .dataframe tbody tr th:only-of-type {\n",
       "        vertical-align: middle;\n",
       "    }\n",
       "\n",
       "    .dataframe tbody tr th {\n",
       "        vertical-align: top;\n",
       "    }\n",
       "\n",
       "    .dataframe thead th {\n",
       "        text-align: right;\n",
       "    }\n",
       "</style>\n",
       "<table border=\"1\" class=\"dataframe\">\n",
       "  <thead>\n",
       "    <tr style=\"text-align: right;\">\n",
       "      <th></th>\n",
       "      <th>eID</th>\n",
       "      <th>p</th>\n",
       "      <th>y</th>\n",
       "      <th>observer</th>\n",
       "    </tr>\n",
       "  </thead>\n",
       "  <tbody>\n",
       "    <tr>\n",
       "      <th>0</th>\n",
       "      <td>0</td>\n",
       "      <td>0.141393</td>\n",
       "      <td>0</td>\n",
       "      <td>0</td>\n",
       "    </tr>\n",
       "    <tr>\n",
       "      <th>1</th>\n",
       "      <td>0</td>\n",
       "      <td>0.213790</td>\n",
       "      <td>0</td>\n",
       "      <td>0</td>\n",
       "    </tr>\n",
       "    <tr>\n",
       "      <th>2</th>\n",
       "      <td>0</td>\n",
       "      <td>0.138943</td>\n",
       "      <td>0</td>\n",
       "      <td>0</td>\n",
       "    </tr>\n",
       "    <tr>\n",
       "      <th>3</th>\n",
       "      <td>0</td>\n",
       "      <td>0.188862</td>\n",
       "      <td>0</td>\n",
       "      <td>1</td>\n",
       "    </tr>\n",
       "    <tr>\n",
       "      <th>4</th>\n",
       "      <td>1</td>\n",
       "      <td>0.211764</td>\n",
       "      <td>0</td>\n",
       "      <td>1</td>\n",
       "    </tr>\n",
       "  </tbody>\n",
       "</table>\n",
       "</div>"
      ],
      "text/plain": [
       "   eID         p  y  observer\n",
       "0    0  0.141393  0         0\n",
       "1    0  0.213790  0         0\n",
       "2    0  0.138943  0         0\n",
       "3    0  0.188862  0         1\n",
       "4    1  0.211764  0         1"
      ]
     },
     "execution_count": 7,
     "metadata": {},
     "output_type": "execute_result"
    }
   ],
   "source": [
    "# turn it into a dataframe with the following columns: 'eID', 'p', 'y', 'observer'\n",
    "df = pd.DataFrame({'eID':ci, 'p':cp, 'y': cy, 'observer':co})\n",
    "df.head()"
   ]
  },
  {
   "cell_type": "markdown",
   "id": "9718dd1a",
   "metadata": {},
   "source": [
    "# overall performance"
   ]
  },
  {
   "cell_type": "code",
   "execution_count": 8,
   "id": "13eeec96",
   "metadata": {},
   "outputs": [
    {
     "data": {
      "text/plain": [
       "0.7577757775777579"
      ]
     },
     "execution_count": 8,
     "metadata": {},
     "output_type": "execute_result"
    }
   ],
   "source": [
    "_ = df.groupby(by='eID').max()\n",
    "metrics.roc_auc_score(_['y'], _['p'])"
   ]
  },
  {
   "cell_type": "markdown",
   "id": "b2441d25",
   "metadata": {},
   "source": [
    "# compute alerts and performance"
   ]
  },
  {
   "cell_type": "code",
   "execution_count": 9,
   "id": "cce275b6",
   "metadata": {},
   "outputs": [],
   "source": [
    "#use mape to:\n",
    "#calculate sensitivity at the population level\n",
    "#calculate alerts at the observer level"
   ]
  },
  {
   "cell_type": "code",
   "execution_count": 10,
   "id": "6eb469f5",
   "metadata": {},
   "outputs": [
    {
     "data": {
      "text/html": [
       "<div>\n",
       "<style scoped>\n",
       "    .dataframe tbody tr th:only-of-type {\n",
       "        vertical-align: middle;\n",
       "    }\n",
       "\n",
       "    .dataframe tbody tr th {\n",
       "        vertical-align: top;\n",
       "    }\n",
       "\n",
       "    .dataframe thead th {\n",
       "        text-align: right;\n",
       "    }\n",
       "</style>\n",
       "<table border=\"1\" class=\"dataframe\">\n",
       "  <thead>\n",
       "    <tr style=\"text-align: right;\">\n",
       "      <th></th>\n",
       "      <th>tau</th>\n",
       "      <th>tn</th>\n",
       "      <th>fp</th>\n",
       "      <th>fn</th>\n",
       "      <th>tp</th>\n",
       "      <th>oa_max</th>\n",
       "      <th>oa_min</th>\n",
       "      <th>oa_mean</th>\n",
       "      <th>oa_med</th>\n",
       "      <th>oa_sum</th>\n",
       "      <th>sens</th>\n",
       "      <th>spec</th>\n",
       "      <th>ppv</th>\n",
       "      <th>npv</th>\n",
       "      <th>proportion_unalerted</th>\n",
       "    </tr>\n",
       "  </thead>\n",
       "  <tbody>\n",
       "    <tr>\n",
       "      <th>0</th>\n",
       "      <td>0.000000</td>\n",
       "      <td>5</td>\n",
       "      <td>96</td>\n",
       "      <td>0</td>\n",
       "      <td>99</td>\n",
       "      <td>67</td>\n",
       "      <td>62</td>\n",
       "      <td>65.000000</td>\n",
       "      <td>66.0</td>\n",
       "      <td>195</td>\n",
       "      <td>1.000000</td>\n",
       "      <td>0.049505</td>\n",
       "      <td>0.507692</td>\n",
       "      <td>1.000000</td>\n",
       "      <td>0.025</td>\n",
       "    </tr>\n",
       "    <tr>\n",
       "      <th>1</th>\n",
       "      <td>0.041667</td>\n",
       "      <td>9</td>\n",
       "      <td>92</td>\n",
       "      <td>0</td>\n",
       "      <td>99</td>\n",
       "      <td>67</td>\n",
       "      <td>61</td>\n",
       "      <td>63.666667</td>\n",
       "      <td>63.0</td>\n",
       "      <td>191</td>\n",
       "      <td>1.000000</td>\n",
       "      <td>0.089109</td>\n",
       "      <td>0.518325</td>\n",
       "      <td>1.000000</td>\n",
       "      <td>0.045</td>\n",
       "    </tr>\n",
       "    <tr>\n",
       "      <th>2</th>\n",
       "      <td>0.083333</td>\n",
       "      <td>10</td>\n",
       "      <td>91</td>\n",
       "      <td>4</td>\n",
       "      <td>95</td>\n",
       "      <td>66</td>\n",
       "      <td>58</td>\n",
       "      <td>62.000000</td>\n",
       "      <td>62.0</td>\n",
       "      <td>186</td>\n",
       "      <td>0.959596</td>\n",
       "      <td>0.099010</td>\n",
       "      <td>0.510753</td>\n",
       "      <td>0.714286</td>\n",
       "      <td>0.070</td>\n",
       "    </tr>\n",
       "    <tr>\n",
       "      <th>3</th>\n",
       "      <td>0.125000</td>\n",
       "      <td>12</td>\n",
       "      <td>89</td>\n",
       "      <td>4</td>\n",
       "      <td>95</td>\n",
       "      <td>66</td>\n",
       "      <td>56</td>\n",
       "      <td>61.333333</td>\n",
       "      <td>62.0</td>\n",
       "      <td>184</td>\n",
       "      <td>0.959596</td>\n",
       "      <td>0.118812</td>\n",
       "      <td>0.516304</td>\n",
       "      <td>0.750000</td>\n",
       "      <td>0.080</td>\n",
       "    </tr>\n",
       "    <tr>\n",
       "      <th>4</th>\n",
       "      <td>0.166667</td>\n",
       "      <td>15</td>\n",
       "      <td>86</td>\n",
       "      <td>6</td>\n",
       "      <td>93</td>\n",
       "      <td>66</td>\n",
       "      <td>52</td>\n",
       "      <td>59.666667</td>\n",
       "      <td>61.0</td>\n",
       "      <td>179</td>\n",
       "      <td>0.939394</td>\n",
       "      <td>0.148515</td>\n",
       "      <td>0.519553</td>\n",
       "      <td>0.714286</td>\n",
       "      <td>0.105</td>\n",
       "    </tr>\n",
       "  </tbody>\n",
       "</table>\n",
       "</div>"
      ],
      "text/plain": [
       "        tau  tn  fp  fn  tp  oa_max  oa_min    oa_mean  oa_med  oa_sum  \\\n",
       "0  0.000000   5  96   0  99      67      62  65.000000    66.0     195   \n",
       "1  0.041667   9  92   0  99      67      61  63.666667    63.0     191   \n",
       "2  0.083333  10  91   4  95      66      58  62.000000    62.0     186   \n",
       "3  0.125000  12  89   4  95      66      56  61.333333    62.0     184   \n",
       "4  0.166667  15  86   6  93      66      52  59.666667    61.0     179   \n",
       "\n",
       "       sens      spec       ppv       npv  proportion_unalerted  \n",
       "0  1.000000  0.049505  0.507692  1.000000                 0.025  \n",
       "1  1.000000  0.089109  0.518325  1.000000                 0.045  \n",
       "2  0.959596  0.099010  0.510753  0.714286                 0.070  \n",
       "3  0.959596  0.118812  0.516304  0.750000                 0.080  \n",
       "4  0.939394  0.148515  0.519553  0.714286                 0.105  "
      ]
     },
     "execution_count": 10,
     "metadata": {},
     "output_type": "execute_result"
    }
   ],
   "source": [
    "ap_res = mape.compute_alerts_and_performance(df)\n",
    "ap_res.head()"
   ]
  },
  {
   "cell_type": "code",
   "execution_count": 11,
   "id": "3006cd7d",
   "metadata": {},
   "outputs": [
    {
     "data": {
      "image/png": "[encoded data removed]",
      "text/plain": [
       "<Figure size 432x288 with 2 Axes>"
      ]
     },
     "metadata": {
      "needs_background": "light"
     },
     "output_type": "display_data"
    }
   ],
   "source": [
    "mape.plot_alerts_and_performance(ap_res)"
   ]
  },
  {
   "cell_type": "markdown",
   "id": "b99730a4",
   "metadata": {},
   "source": [
    "# tradeoff"
   ]
  },
  {
   "cell_type": "code",
   "execution_count": 12,
   "id": "ab4bc2bf",
   "metadata": {},
   "outputs": [
    {
     "data": {
      "image/png": "[encoded data removed]",
      "text/plain": [
       "<Figure size 1080x1080 with 2 Axes>"
      ]
     },
     "metadata": {
      "needs_background": "light"
     },
     "output_type": "display_data"
    }
   ],
   "source": [
    "mape.plot_trade_off(ap_res)"
   ]
  }
 ],
 "metadata": {
  "kernelspec": {
   "display_name": "Python 3",
   "language": "python",
   "name": "python3"
  },
  "language_info": {
   "codemirror_mode": {
    "name": "ipython",
    "version": 3
   },
   "file_extension": ".py",
   "mimetype": "text/x-python",
   "name": "python",
   "nbconvert_exporter": "python",
   "pygments_lexer": "ipython3",
   "version": "3.9.2"
  }
 },
 "nbformat": 4,
 "nbformat_minor": 5
}
